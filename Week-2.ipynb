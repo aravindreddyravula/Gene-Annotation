{
 "cells": [
  {
   "cell_type": "markdown",
   "metadata": {},
   "source": [
    "<h3> Importing Libraries </h3>"
   ]
  },
  {
   "cell_type": "code",
   "execution_count": 34,
   "metadata": {},
   "outputs": [],
   "source": [
    "import pandas as pd\n",
    "import torch\n",
    "import torch.nn as nn\n",
    "import torch.nn.functional as F\n",
    "import torch.optim as optim\n",
    "import torch.nn as nn\n",
    "import torch.nn.functional as F\n",
    "import torch.optim as optim\n",
    "import torch.autograd as autograd\n",
    "from pandas import *\n",
    "import matplotlib.pyplot as plt\n",
    "%matplotlib inline"
   ]
  },
  {
   "cell_type": "markdown",
   "metadata": {},
   "source": [
    "<h3> Loading Data </h3>"
   ]
  },
  {
   "cell_type": "code",
   "execution_count": 35,
   "metadata": {},
   "outputs": [],
   "source": [
    "positive_data = pd.read_fwf('positve_sample.txt', header=None, nrows=2000)\n",
    "positive_data.columns = [\"Gene\"]\n",
    "negative_data = pd.read_fwf('negative_sample.txt', header=None, nrows=2000)\n",
    "negative_data.columns = [\"Gene\"]\n",
    "data_ = pd.concat([positive_data, negative_data])\n",
    "\n",
    "positive_test_data = pd.read_fwf('positive_sample_test.txt', header = None)\n",
    "positive_test_data.columns = [\"Gene\"]\n",
    "negative_test_data = pd.read_fwf('negative_sample_test.txt', header = None)\n",
    "negative_test_data.columns = [\"Gene\"]\n",
    "data_test = pd.concat([positive_test_data, negative_test_data])"
   ]
  },
  {
   "cell_type": "markdown",
   "metadata": {},
   "source": [
    "<h3> Hyperparameters </h3>"
   ]
  },
  {
   "cell_type": "code",
   "execution_count": 36,
   "metadata": {},
   "outputs": [
    {
     "name": "stdout",
     "output_type": "stream",
     "text": [
      "990\n"
     ]
    }
   ],
   "source": [
    "batch_size = 1\n",
    "embedding_size = 10\n",
    "window_size = 3\n",
    "hidden_layer_size = 100\n",
    "num_layers = 2\n",
    "epochs = 100\n",
    "lr = 0.01\n",
    "fc_size = (len(positive_data.Gene[0]) - window_size + 1)*embedding_size\n",
    "positives = positive_data.shape[0]\n",
    "negatives = negative_data.shape[0]\n",
    "print(fc_size)"
   ]
  },
  {
   "cell_type": "markdown",
   "metadata": {},
   "source": [
    "<h3> Generating Vocabulary </h3>"
   ]
  },
  {
   "cell_type": "code",
   "execution_count": 37,
   "metadata": {},
   "outputs": [],
   "source": [
    "vocab_set = set()\n",
    "def generate_vocabmap_helper(set, k): \n",
    "    n = len(set)  \n",
    "    generate_k_sized(set, \"\", n, k) \n",
    "def generate_k_sized(set, prefix, n, k): \n",
    "    if (k == 0) : \n",
    "        vocab_set.add(prefix)\n",
    "        return\n",
    "    for i in range(n): \n",
    "        newPrefix = prefix + set[i] \n",
    "        generate_k_sized(set, newPrefix, n, k - 1) \n",
    "def generate_vocabmap(n):\n",
    "    alphabet = ['0','1','2','3','4']\n",
    "    generate_vocabmap_helper(alphabet, n)\n",
    "    \n",
    "    vocab_set_1 = sorted(vocab_set)\n",
    "    vocab_map = {}\n",
    "    \n",
    "    for i in range(len(vocab_set_1)):\n",
    "        vocab_map[vocab_set_1[i]] = i\n",
    "    return vocab_map\n",
    "\n",
    "vocabulary = generate_vocabmap(window_size)\n",
    "# print(vocabulary)"
   ]
  },
  {
   "cell_type": "markdown",
   "metadata": {},
   "source": [
    "<h3> Generating Initial Embeddings </h3>"
   ]
  },
  {
   "cell_type": "code",
   "execution_count": 38,
   "metadata": {},
   "outputs": [],
   "source": [
    "embeds = nn.Embedding(len(vocabulary), 5)\n",
    "embeddings = {}\n",
    "def generate_embeddings():\n",
    "    for word in vocabulary:\n",
    "        embeddings[word] = embeds(torch.tensor(vocabulary[word], dtype=torch.long)).type(torch.LongTensor)\n",
    "\n",
    "generate_embeddings()"
   ]
  },
  {
   "cell_type": "code",
   "execution_count": 39,
   "metadata": {},
   "outputs": [],
   "source": [
    "negative_labels = torch.zeros(negatives, 1)\n",
    "positive_labels = torch.ones(positives, 1)\n",
    "labels_ = torch.cat([positive_labels, negative_labels], dim=0)"
   ]
  },
  {
   "cell_type": "markdown",
   "metadata": {},
   "source": [
    "<h3> Neural Network Implementation </h3>"
   ]
  },
  {
   "cell_type": "code",
   "execution_count": 40,
   "metadata": {},
   "outputs": [],
   "source": [
    "def get_train_accuracy(label, index, data_size, correct, wrong):    \n",
    "    if index < data_size/2+1:\n",
    "        if label > 0.5:\n",
    "            correct += 1\n",
    "        else:\n",
    "            wrong += 1\n",
    "    else:\n",
    "        if label > 0.5:\n",
    "            wrong += 1\n",
    "        else:\n",
    "            correct += 1\n",
    "    return correct, wrong"
   ]
  },
  {
   "cell_type": "code",
   "execution_count": 41,
   "metadata": {},
   "outputs": [],
   "source": [
    "class Net(nn.Module):\n",
    "    def __init__(self):\n",
    "        super(Net, self).__init__()\n",
    "        self.embeds = nn.Embedding(len(vocabulary), embedding_size)\n",
    "        self.fc1 = nn.Linear(fc_size, hidden_layer_size)\n",
    "        self.relu1 = nn.Sigmoid()\n",
    "        self.fc2 = nn.Linear(hidden_layer_size, hidden_layer_size)\n",
    "        self.relu2 = nn.Sigmoid()\n",
    "        self.out = nn.Linear(hidden_layer_size, 1)\n",
    "        self.out_act = nn.Sigmoid()\n",
    "\n",
    "    def forward(self, x):\n",
    "        z = self.embeds(x).view((1,-1))\n",
    "        a1 = self.fc1(z)\n",
    "        h1 = self.relu1(a1)\n",
    "        a2 = self.fc2(h1)\n",
    "        h2 = self.relu2(a2)\n",
    "        \n",
    "        a3 = self.out(h2)\n",
    "        y = self.out_act(a3)\n",
    "        return y\n",
    "net = Net()\n"
   ]
  },
  {
   "cell_type": "code",
   "execution_count": 42,
   "metadata": {},
   "outputs": [],
   "source": [
    "opt = optim.SGD(net.parameters(), lr, momentum=0.0)\n",
    "criterion = nn.BCELoss()"
   ]
  },
  {
   "cell_type": "code",
   "execution_count": 43,
   "metadata": {},
   "outputs": [],
   "source": [
    "def train_epoch(model, opt, criterion, batch_size=1):\n",
    "    model.train()\n",
    "    losses = []\n",
    "    c = 0\n",
    "    wrong, correct = 0, 0\n",
    "    for data in data_.itertuples():\n",
    "        data_batch = torch.tensor([vocabulary[data.Gene[i:i+window_size]] for i in range(0, len(data.Gene) - window_size + 1)], dtype=torch.long)\n",
    "        labels_batch = labels_[c]\n",
    "        c+=1\n",
    "        data_batch = autograd.Variable(data_batch)\n",
    "        labels_batch = autograd.Variable(labels_batch)\n",
    "\n",
    "        opt.zero_grad()\n",
    "        \n",
    "        labels_hat = net(data_batch)\n",
    "        loss = criterion(labels_hat, labels_batch)\n",
    "\n",
    "        loss.backward()\n",
    "\n",
    "        opt.step()        \n",
    "        losses.append(loss.data.numpy())\n",
    "        correct, wrong = get_train_accuracy(labels_hat, c, len(labels_), correct, wrong)\n",
    "    loss = sum(losses)/len(losses)\n",
    "    return loss,correct,wrong"
   ]
  },
  {
   "cell_type": "code",
   "execution_count": 44,
   "metadata": {},
   "outputs": [],
   "source": [
    "def test_prediction_accuracy(labels):\n",
    "    correct, wrong = 0, 0\n",
    "    labels_hat = labels\n",
    "    for i in range(len(labels_hat)//2 + 1):\n",
    "        if labels_hat[i] > 0.5:\n",
    "            correct += 1\n",
    "        else:\n",
    "            wrong += 1\n",
    "    for i in range(101, len(labels_hat)):\n",
    "        if labels_hat[i] > 0.5:\n",
    "            wrong += 1\n",
    "        else:\n",
    "            correct += 1\n",
    "    return (correct,wrong)"
   ]
  },
  {
   "cell_type": "code",
   "execution_count": 45,
   "metadata": {},
   "outputs": [],
   "source": [
    "def test_prediction_model(data_test, labels_predicted):\n",
    "    correct, wrong = 0, 0\n",
    "    for data in data_test.itertuples():\n",
    "        data_testing = torch.tensor([vocabulary[data.Gene[i:i+window_size]] for i in range(0, len(data.Gene) - window_size + 1)], dtype=torch.long)\n",
    "        labels_hat = net(data_testing)\n",
    "        labels_predicted.append(labels_hat[0])\n",
    "    for i in range(len(labels_predicted)//2 + 1):\n",
    "        if labels_predicted[i] > 0.5:\n",
    "            correct += 1\n",
    "        else:\n",
    "            wrong += 1\n",
    "    for i in range(101, len(labels_predicted)):\n",
    "        if labels_predicted[i] > 0.5:\n",
    "            wrong += 1\n",
    "        else:\n",
    "            correct += 1\n",
    "    return correct,wrong"
   ]
  },
  {
   "cell_type": "code",
   "execution_count": 46,
   "metadata": {},
   "outputs": [],
   "source": [
    "def load_test_model():\n",
    "    model = Net()\n",
    "    model.load_state_dict(torch.load('fc_with_lstm.pt'))\n",
    "    model.eval()\n",
    "    labels_predicted = []\n",
    "    return test_prediction_model(data_test, labels_predicted)"
   ]
  },
  {
   "cell_type": "code",
   "execution_count": 47,
   "metadata": {},
   "outputs": [
    {
     "name": "stdout",
     "output_type": "stream",
     "text": [
      "Average Loss at epoch, 0 : 0.0313874591604108\n",
      "Average Loss at epoch, 20 : 0.014336112415967894\n",
      "Average Loss at epoch, 40 : 0.01421227480702024\n",
      "Average Loss at epoch, 60 : 0.0012123506077584487\n",
      "Average Loss at epoch, 80 : 0.00010962584043275924\n",
      "100.0\n"
     ]
    }
   ],
   "source": [
    "def train():\n",
    "    losses = []\n",
    "    accuracies = []\n",
    "    test_acc = []\n",
    "    for e in range(epochs):\n",
    "        loss, c, w = train_epoch(net, opt, criterion, batch_size)\n",
    "        accuracies.append(100*(c/(c+w)))\n",
    "        losses.append(loss)\n",
    "        if e % 20 == 0:\n",
    "            print('Average Loss at epoch,',e,':',loss)\n",
    "        torch.save(net.state_dict(), 'fc_with_lstm.pt')\n",
    "        correct, wrong = load_test_model()\n",
    "        test_acc.append(100*(correct/(correct+wrong)))\n",
    "    print(accuracies[-1])\n",
    "        \n",
    "    return accuracies, test_acc\n",
    "train,test = train()"
   ]
  },
  {
   "cell_type": "code",
   "execution_count": 48,
   "metadata": {},
   "outputs": [
    {
     "data": {
      "text/plain": [
       "[<matplotlib.lines.Line2D at 0x120467128>]"
      ]
     },
     "execution_count": 48,
     "metadata": {},
     "output_type": "execute_result"
    },
    {
     "data": {
      "image/png": "[encoded data removed]",
      "text/plain": [
       "<Figure size 432x288 with 1 Axes>"
      ]
     },
     "metadata": {
      "needs_background": "light"
     },
     "output_type": "display_data"
    }
   ],
   "source": [
    "plt.plot(train)\n",
    "plt.plot(test)"
   ]
  },
  {
   "cell_type": "code",
   "execution_count": null,
   "metadata": {},
   "outputs": [],
   "source": []
  },
  {
   "cell_type": "code",
   "execution_count": null,
   "metadata": {},
   "outputs": [],
   "source": []
  },
  {
   "cell_type": "code",
   "execution_count": null,
   "metadata": {},
   "outputs": [],
   "source": []
  },
  {
   "cell_type": "code",
   "execution_count": null,
   "metadata": {},
   "outputs": [],
   "source": []
  }
 ],
 "metadata": {
  "kernelspec": {
   "display_name": "Python 3",
   "language": "python",
   "name": "python3"
  },
  "language_info": {
   "codemirror_mode": {
    "name": "ipython",
    "version": 3
   },
   "file_extension": ".py",
   "mimetype": "text/x-python",
   "name": "python",
   "nbconvert_exporter": "python",
   "pygments_lexer": "ipython3",
   "version": "3.7.1"
  }
 },
 "nbformat": 4,
 "nbformat_minor": 2
}
