{
 "cells": [
  {
   "cell_type": "markdown",
   "metadata": {},
   "source": [
    "<h2 align = \"center\">Neural Network Implementation Basics</h2>"
   ]
  },
  {
   "cell_type": "markdown",
   "metadata": {},
   "source": [
    "<h3> Importing packages</h3>"
   ]
  },
  {
   "cell_type": "code",
   "execution_count": 669,
   "metadata": {},
   "outputs": [
    {
     "data": {
      "text/plain": [
       "<torch._C.Generator at 0x120b44990>"
      ]
     },
     "execution_count": 669,
     "metadata": {},
     "output_type": "execute_result"
    }
   ],
   "source": [
    "import pandas as pd\n",
    "import numpy as np\n",
    "import torch\n",
    "import torch.nn as nn\n",
    "import torch.nn.functional as F\n",
    "import torch.optim as optim\n",
    "import torch.autograd as autograd\n",
    "import matplotlib.pyplot as plt\n",
    "torch.manual_seed(1)"
   ]
  },
  {
   "cell_type": "markdown",
   "metadata": {},
   "source": [
    "<h3> Loading Files </h3>"
   ]
  },
  {
   "cell_type": "code",
   "execution_count": 670,
   "metadata": {},
   "outputs": [],
   "source": [
    "positive_data = pd.read_fwf('../positive_sample.txt', header = None, nrows = 1000)\n",
    "negative_data = pd.read_fwf('../negative_sample.txt', header = None, nrows = 1000)"
   ]
  },
  {
   "cell_type": "markdown",
   "metadata": {},
   "source": [
    "<h3> Generating vocabulary </h3>"
   ]
  },
  {
   "cell_type": "code",
   "execution_count": 671,
   "metadata": {},
   "outputs": [],
   "source": [
    "vocab_set = set()\n",
    "window_size = 6\n",
    "embeddings_size = 10\n",
    "batch_size = 50\n",
    "epochs = 1000\n",
    "lr = 0.2\n",
    "batch_size = 50\n",
    "def generate_vocabmap_helper(set, k): \n",
    "    n = len(set)  \n",
    "    generate_k_sized(set, \"\", n, k) \n",
    "def generate_k_sized(set, prefix, n, k): \n",
    "    if (k == 0) : \n",
    "        vocab_set.add(prefix)\n",
    "        return\n",
    "    for i in range(n): \n",
    "        newPrefix = prefix + set[i] \n",
    "        generate_k_sized(set, newPrefix, n, k - 1) \n",
    "def generate_vocabmap(n):\n",
    "    alphabet = ['0','1','2','3','4']\n",
    "    generate_vocabmap_helper(alphabet, n)\n",
    "    \n",
    "    vocab_set_1 = sorted(vocab_set)\n",
    "    vocab_map = {}\n",
    "    \n",
    "    for i in range(len(vocab_set_1)):\n",
    "        vocab_map[vocab_set_1[i]] = i\n",
    "    return vocab_map\n",
    "\n",
    "vocabulary = generate_vocabmap(window_size)"
   ]
  },
  {
   "cell_type": "markdown",
   "metadata": {},
   "source": [
    "<h3> Generating Embeddings </h3>"
   ]
  },
  {
   "cell_type": "code",
   "execution_count": 672,
   "metadata": {},
   "outputs": [],
   "source": [
    "#Embedding matrix for input and ouput\n",
    "embeds = nn.Embedding(len(vocabulary), embeddings_size)\n",
    "embeddings = {}\n",
    "for word in vocabulary:\n",
    "    embeddings[word] = embeds(torch.tensor(vocabulary[word], dtype=torch.long))"
   ]
  },
  {
   "cell_type": "code",
   "execution_count": 673,
   "metadata": {},
   "outputs": [],
   "source": [
    "def generate_window_length_bases(data_sample):\n",
    "    list_of_tensors = []\n",
    "    for data in data_sample.itertuples():\n",
    "        for i in range(len(data[1]) - window_size + 1):\n",
    "            if i == 0:\n",
    "                first_tensor = embeddings[data[1][i:i+window_size]]\n",
    "            else:\n",
    "                first_tensor = torch.cat((first_tensor, embeddings[data[1][i:i+window_size]]), 0)\n",
    "        list_of_tensors.append(first_tensor)\n",
    "    train = torch.stack(list_of_tensors)\n",
    "    return train\n",
    "positives = generate_window_length_bases(positive_data)\n",
    "negatives = generate_window_length_bases(negative_data)\n",
    "data_ = torch.cat([positives, negatives], dim=0)\n",
    "\n",
    "negative_labels = torch.zeros(negatives.shape[0], 1)\n",
    "positive_labels = torch.ones(positives.shape[0], 1)\n",
    "labels_ = torch.cat([positive_labels, negative_labels], dim=0)"
   ]
  },
  {
   "cell_type": "code",
   "execution_count": 674,
   "metadata": {},
   "outputs": [
    {
     "data": {
      "text/plain": [
       "torch.Size([1000, 960])"
      ]
     },
     "execution_count": 674,
     "metadata": {},
     "output_type": "execute_result"
    }
   ],
   "source": [
    "positives.shape"
   ]
  },
  {
   "cell_type": "markdown",
   "metadata": {},
   "source": [
    "<h3> Neural Network </h3>"
   ]
  },
  {
   "cell_type": "code",
   "execution_count": 675,
   "metadata": {},
   "outputs": [],
   "source": [
    "class Net(nn.Module):\n",
    "    def __init__(self):\n",
    "        super(Net, self).__init__()\n",
    "        self.fc1 = nn.Linear(embeddings_size * (len(positive_data[0][0]) - window_size + 1), 505)\n",
    "        self.relu1 = nn.Sigmoid()\n",
    "        self.fc2 = nn.Linear(505, 100)\n",
    "        self.prelu = nn.ReLU()\n",
    "        self.out = nn.Linear(100, 1)\n",
    "        self.out_act = nn.Sigmoid()\n",
    "\n",
    "    def forward(self, x):\n",
    "        a1 = self.fc1(x)\n",
    "        h1 = self.relu1(a1)\n",
    "        a2 = self.fc2(h1)\n",
    "        h2 = self.prelu(a2)\n",
    "        a3 = self.out(h2)\n",
    "        y = self.out_act(a3)\n",
    "        return y\n",
    "net = Net()"
   ]
  },
  {
   "cell_type": "markdown",
   "metadata": {},
   "source": [
    "<h3> Optimization and Loss Calculation </h3>"
   ]
  },
  {
   "cell_type": "code",
   "execution_count": 676,
   "metadata": {},
   "outputs": [],
   "source": [
    "opt = optim.SGD(net.parameters(), lr=0.01, momentum = 0.0)\n",
    "criterion = nn.BCELoss()"
   ]
  },
  {
   "cell_type": "markdown",
   "metadata": {},
   "source": [
    "<h3> Training and Saving the Model </h3>"
   ]
  },
  {
   "cell_type": "code",
   "execution_count": 677,
   "metadata": {},
   "outputs": [],
   "source": [
    "def train_epoch(model, opt, criterion, batch_size):\n",
    "    model.train()\n",
    "    losses = []\n",
    "    for i in range(0, data_.size(0), batch_size):\n",
    "        data_batch = data_[i:i + batch_size, :]\n",
    "        labels_batch = labels_[i:i + batch_size, :]\n",
    "        data_batch = autograd.Variable(data_batch)\n",
    "        labels_batch = autograd.Variable(labels_batch)\n",
    "\n",
    "        opt.zero_grad()\n",
    "        labels_hat = net(data_batch)\n",
    "        loss = criterion(labels_hat, labels_batch)\n",
    "        loss.backward()\n",
    "        opt.step()        \n",
    "        losses.append(loss.data.numpy())\n",
    "    loss = sum(losses)/len(losses)\n",
    "    return loss"
   ]
  },
  {
   "cell_type": "code",
   "execution_count": 678,
   "metadata": {},
   "outputs": [
    {
     "name": "stdout",
     "output_type": "stream",
     "text": [
      "Average Loss at  0  steps:  0.5894961219280959\n",
      "Average Loss at  100  steps:  0.6495128765702247\n",
      "Average Loss at  200  steps:  0.15780695518478752\n",
      "Average Loss at  300  steps:  0.09607502706348896\n",
      "Average Loss at  400  steps:  0.03607096765190363\n",
      "Average Loss at  500  steps:  0.004065680006169714\n",
      "Average Loss at  600  steps:  0.001988223896478303\n",
      "Average Loss at  700  steps:  0.0013413741733529605\n",
      "Average Loss at  800  steps:  0.0010052565252408386\n",
      "Average Loss at  900  steps:  0.0008018531159905251\n"
     ]
    },
    {
     "data": {
      "text/plain": [
       "[<matplotlib.lines.Line2D at 0x13432b278>]"
      ]
     },
     "execution_count": 678,
     "metadata": {},
     "output_type": "execute_result"
    },
    {
     "data": {
      "image/png": "[encoded data removed]",
      "text/plain": [
       "<Figure size 432x288 with 1 Axes>"
      ]
     },
     "metadata": {
      "needs_background": "light"
     },
     "output_type": "display_data"
    }
   ],
   "source": [
    "losses = []\n",
    "\n",
    "for e in range(epochs):\n",
    "    loss = train_epoch(net, opt, criterion, batch_size)\n",
    "    losses.append(loss)\n",
    "    if(e%100 == 0):\n",
    "            print(\"Average Loss at \", e, \" steps: \", loss)\n",
    "torch.save(net.state_dict(), 'model.py')\n",
    "plt.plot(losses)"
   ]
  },
  {
   "cell_type": "markdown",
   "metadata": {},
   "source": [
    "<h3> Loading Model for making predictions </h3>"
   ]
  },
  {
   "cell_type": "code",
   "execution_count": 679,
   "metadata": {},
   "outputs": [
    {
     "data": {
      "text/plain": [
       "Net(\n",
       "  (fc1): Linear(in_features=960, out_features=505, bias=True)\n",
       "  (relu1): Sigmoid()\n",
       "  (fc2): Linear(in_features=505, out_features=100, bias=True)\n",
       "  (prelu): ReLU()\n",
       "  (out): Linear(in_features=100, out_features=1, bias=True)\n",
       "  (out_act): Sigmoid()\n",
       ")"
      ]
     },
     "execution_count": 679,
     "metadata": {},
     "output_type": "execute_result"
    }
   ],
   "source": [
    "model = Net()\n",
    "model.load_state_dict(torch.load('model.py'))\n",
    "model.eval()"
   ]
  },
  {
   "cell_type": "markdown",
   "metadata": {},
   "source": [
    "<h3> Loading Test data and making predictions </h3>"
   ]
  },
  {
   "cell_type": "code",
   "execution_count": 680,
   "metadata": {},
   "outputs": [],
   "source": [
    "positive_test_data = pd.read_fwf('../positive_sample_test.txt', header = None)\n",
    "negative_test_data = pd.read_fwf('../negative_sample_test.txt', header = None)"
   ]
  },
  {
   "cell_type": "code",
   "execution_count": 681,
   "metadata": {},
   "outputs": [
    {
     "data": {
      "text/plain": [
       "(100, 1)"
      ]
     },
     "execution_count": 681,
     "metadata": {},
     "output_type": "execute_result"
    }
   ],
   "source": [
    "positive_test_data.shape"
   ]
  },
  {
   "cell_type": "code",
   "execution_count": 682,
   "metadata": {},
   "outputs": [],
   "source": [
    "positives_test = generate_window_length_bases(positive_test_data)\n",
    "negatives_test = generate_window_length_bases(negative_test_data)\n",
    "\n",
    "data_test = torch.cat([positives_test, negatives_test], dim=0)\n",
    "\n",
    "negative_labels_test = torch.zeros(negatives_test.shape[0], 1)\n",
    "positive_labels_test = torch.ones(positives_test.shape[0], 1)\n",
    "labels_test = torch.cat([positive_labels_test, negative_labels_test], dim=0)"
   ]
  },
  {
   "cell_type": "code",
   "execution_count": 683,
   "metadata": {},
   "outputs": [],
   "source": [
    "labels_hat = model(data_test)"
   ]
  },
  {
   "cell_type": "code",
   "execution_count": 684,
   "metadata": {},
   "outputs": [
    {
     "data": {
      "text/plain": [
       "torch.Size([200, 1])"
      ]
     },
     "execution_count": 684,
     "metadata": {},
     "output_type": "execute_result"
    }
   ],
   "source": [
    "labels_hat.shape"
   ]
  },
  {
   "cell_type": "code",
   "execution_count": 685,
   "metadata": {},
   "outputs": [
    {
     "name": "stdout",
     "output_type": "stream",
     "text": [
      "Accuracy =  60.5 %\n"
     ]
    }
   ],
   "source": [
    "correct, wrong = 0, 0\n",
    "for i in range(labels_hat.shape[0]//2 + 1):\n",
    "    if labels_hat[i] > 0.5:\n",
    "        correct += 1\n",
    "    else:\n",
    "        wrong += 1\n",
    "for i in range(101, labels_hat.shape[0]):\n",
    "    if labels_hat[i] > 0.5:\n",
    "        wrong += 1\n",
    "    else:\n",
    "        correct += 1\n",
    "print(\"Accuracy = \", (correct * 100)/(correct + wrong),\"%\")"
   ]
  },
  {
   "cell_type": "code",
   "execution_count": null,
   "metadata": {},
   "outputs": [],
   "source": []
  },
  {
   "cell_type": "code",
   "execution_count": null,
   "metadata": {},
   "outputs": [],
   "source": []
  }
 ],
 "metadata": {
  "kernelspec": {
   "display_name": "Python 3",
   "language": "python",
   "name": "python3"
  },
  "language_info": {
   "codemirror_mode": {
    "name": "ipython",
    "version": 3
   },
   "file_extension": ".py",
   "mimetype": "text/x-python",
   "name": "python",
   "nbconvert_exporter": "python",
   "pygments_lexer": "ipython3",
   "version": "3.7.1"
  }
 },
 "nbformat": 4,
 "nbformat_minor": 2
}
